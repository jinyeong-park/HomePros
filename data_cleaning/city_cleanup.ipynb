{
 "cells": [
  {
   "cell_type": "code",
   "execution_count": 72,
   "metadata": {},
   "outputs": [],
   "source": [
    "import pandas as pd\n",
    "import numpy as np\n",
    "import difflib\n",
    "from thefuzz import fuzz, process"
   ]
  },
  {
   "cell_type": "code",
   "execution_count": 73,
   "metadata": {},
   "outputs": [],
   "source": [
    "city_1 = pd.read_csv('uscities.csv')\n",
    "city_2 = pd.read_csv('us_cities_3.csv')\n"
   ]
  },
  {
   "cell_type": "code",
   "execution_count": 74,
   "metadata": {},
   "outputs": [
    {
     "name": "stdout",
     "output_type": "stream",
     "text": [
      "<class 'pandas.core.frame.DataFrame'>\n",
      "RangeIndex: 30844 entries, 0 to 30843\n",
      "Data columns (total 17 columns):\n",
      " #   Column        Non-Null Count  Dtype  \n",
      "---  ------        --------------  -----  \n",
      " 0   city          30844 non-null  object \n",
      " 1   city_ascii    30844 non-null  object \n",
      " 2   state_id      30844 non-null  object \n",
      " 3   state_name    30844 non-null  object \n",
      " 4   county_fips   30844 non-null  int64  \n",
      " 5   county_name   30844 non-null  object \n",
      " 6   lat           30844 non-null  float64\n",
      " 7   lng           30844 non-null  float64\n",
      " 8   population    30844 non-null  int64  \n",
      " 9   density       30844 non-null  float64\n",
      " 10  source        30844 non-null  object \n",
      " 11  military      30844 non-null  bool   \n",
      " 12  incorporated  30844 non-null  bool   \n",
      " 13  timezone      30844 non-null  object \n",
      " 14  ranking       30844 non-null  int64  \n",
      " 15  zips          30842 non-null  object \n",
      " 16  id            30844 non-null  int64  \n",
      "dtypes: bool(2), float64(3), int64(4), object(8)\n",
      "memory usage: 3.6+ MB\n"
     ]
    }
   ],
   "source": [
    "city_1.info()"
   ]
  },
  {
   "cell_type": "code",
   "execution_count": 75,
   "metadata": {},
   "outputs": [],
   "source": [
    "city_1 = city_1[['city_ascii', 'state_name', 'population', 'county_name', 'lat', 'lng']]\n",
    "city_1 = city_1.rename(columns={\n",
    "    \"city_ascii\":\"city\",\n",
    "    \"state_name\":\"state\",\n",
    "    \"county_name\":\"county\",\n",
    "    \"lat\":\"latitude\",\n",
    "    'lng':'longitude'\n",
    "})"
   ]
  },
  {
   "cell_type": "code",
   "execution_count": 76,
   "metadata": {},
   "outputs": [
    {
     "name": "stdout",
     "output_type": "stream",
     "text": [
      "St. Louis\n"
     ]
    }
   ],
   "source": [
    "s = 'St. Louis'\n",
    "a = s.replace(r'St\\. ', 'Saint')\n",
    "print(a)"
   ]
  },
  {
   "cell_type": "code",
   "execution_count": 77,
   "metadata": {},
   "outputs": [],
   "source": [
    "city_1['city'] = city_1['city'].str.replace(r'St\\. ', 'Saint ', regex=True)\n",
    "city_1['county'] = city_1['county'].str.replace(r'St\\. ', 'Saint ', regex=True)"
   ]
  },
  {
   "cell_type": "code",
   "execution_count": 78,
   "metadata": {},
   "outputs": [
    {
     "name": "stdout",
     "output_type": "stream",
     "text": [
      "<class 'pandas.core.frame.DataFrame'>\n",
      "RangeIndex: 29880 entries, 0 to 29879\n",
      "Data columns (total 7 columns):\n",
      " #   Column      Non-Null Count  Dtype  \n",
      "---  ------      --------------  -----  \n",
      " 0   ID          29880 non-null  int64  \n",
      " 1   STATE_CODE  29880 non-null  object \n",
      " 2   STATE_NAME  29880 non-null  object \n",
      " 3   CITY        29880 non-null  object \n",
      " 4   COUNTY      29858 non-null  object \n",
      " 5   LATITUDE    29880 non-null  float64\n",
      " 6   LONGITUDE   29880 non-null  float64\n",
      "dtypes: float64(2), int64(1), object(4)\n",
      "memory usage: 1.6+ MB\n"
     ]
    }
   ],
   "source": [
    "city_2.info()"
   ]
  },
  {
   "cell_type": "code",
   "execution_count": 79,
   "metadata": {},
   "outputs": [],
   "source": [
    "city_2 = city_2[['CITY', 'STATE_NAME', 'COUNTY', 'LATITUDE', 'LONGITUDE']]\n",
    "city_2 = city_2.rename(columns={\n",
    "    'CITY':'city',\n",
    "    'STATE_NAME':'state',\n",
    "    'COUNTY':'county',\n",
    "    'LATITUDE':'latitude',\n",
    "    'LONGITUDE':'longitude'\n",
    "})\n"
   ]
  },
  {
   "cell_type": "code",
   "execution_count": 80,
   "metadata": {},
   "outputs": [],
   "source": [
    "city_2['population'] = np.nan"
   ]
  },
  {
   "cell_type": "code",
   "execution_count": 81,
   "metadata": {},
   "outputs": [
    {
     "name": "stdout",
     "output_type": "stream",
     "text": [
      "<class 'pandas.core.frame.DataFrame'>\n",
      "RangeIndex: 60724 entries, 0 to 60723\n",
      "Data columns (total 6 columns):\n",
      " #   Column      Non-Null Count  Dtype  \n",
      "---  ------      --------------  -----  \n",
      " 0   city        60724 non-null  object \n",
      " 1   state       60724 non-null  object \n",
      " 2   population  30844 non-null  float64\n",
      " 3   county      60702 non-null  object \n",
      " 4   latitude    60724 non-null  float64\n",
      " 5   longitude   60724 non-null  float64\n",
      "dtypes: float64(3), object(3)\n",
      "memory usage: 2.8+ MB\n"
     ]
    }
   ],
   "source": [
    "all_cities = pd.concat([city_1, city_2], ignore_index=True)\n",
    "all_cities.info()"
   ]
  },
  {
   "cell_type": "code",
   "execution_count": 82,
   "metadata": {},
   "outputs": [
    {
     "data": {
      "text/html": [
       "<div>\n",
       "<style scoped>\n",
       "    .dataframe tbody tr th:only-of-type {\n",
       "        vertical-align: middle;\n",
       "    }\n",
       "\n",
       "    .dataframe tbody tr th {\n",
       "        vertical-align: top;\n",
       "    }\n",
       "\n",
       "    .dataframe thead th {\n",
       "        text-align: right;\n",
       "    }\n",
       "</style>\n",
       "<table border=\"1\" class=\"dataframe\">\n",
       "  <thead>\n",
       "    <tr style=\"text-align: right;\">\n",
       "      <th></th>\n",
       "      <th>city</th>\n",
       "      <th>state</th>\n",
       "      <th>population</th>\n",
       "      <th>county</th>\n",
       "      <th>latitude</th>\n",
       "      <th>longitude</th>\n",
       "    </tr>\n",
       "  </thead>\n",
       "  <tbody>\n",
       "    <tr>\n",
       "      <th>0</th>\n",
       "      <td>New York</td>\n",
       "      <td>New York</td>\n",
       "      <td>18972871.0</td>\n",
       "      <td>Queens</td>\n",
       "      <td>40.694300</td>\n",
       "      <td>-73.924900</td>\n",
       "    </tr>\n",
       "    <tr>\n",
       "      <th>1</th>\n",
       "      <td>Los Angeles</td>\n",
       "      <td>California</td>\n",
       "      <td>12121244.0</td>\n",
       "      <td>Los Angeles</td>\n",
       "      <td>34.114100</td>\n",
       "      <td>-118.406800</td>\n",
       "    </tr>\n",
       "    <tr>\n",
       "      <th>2</th>\n",
       "      <td>Chicago</td>\n",
       "      <td>Illinois</td>\n",
       "      <td>8595181.0</td>\n",
       "      <td>Cook</td>\n",
       "      <td>41.837500</td>\n",
       "      <td>-87.686600</td>\n",
       "    </tr>\n",
       "    <tr>\n",
       "      <th>3</th>\n",
       "      <td>Miami</td>\n",
       "      <td>Florida</td>\n",
       "      <td>5711945.0</td>\n",
       "      <td>Miami-Dade</td>\n",
       "      <td>25.784000</td>\n",
       "      <td>-80.210100</td>\n",
       "    </tr>\n",
       "    <tr>\n",
       "      <th>4</th>\n",
       "      <td>Dallas</td>\n",
       "      <td>Texas</td>\n",
       "      <td>5668165.0</td>\n",
       "      <td>Dallas</td>\n",
       "      <td>32.793500</td>\n",
       "      <td>-96.766700</td>\n",
       "    </tr>\n",
       "    <tr>\n",
       "      <th>...</th>\n",
       "      <td>...</td>\n",
       "      <td>...</td>\n",
       "      <td>...</td>\n",
       "      <td>...</td>\n",
       "      <td>...</td>\n",
       "      <td>...</td>\n",
       "    </tr>\n",
       "    <tr>\n",
       "      <th>39445</th>\n",
       "      <td>Wapiti</td>\n",
       "      <td>Wyoming</td>\n",
       "      <td>NaN</td>\n",
       "      <td>Park</td>\n",
       "      <td>44.479670</td>\n",
       "      <td>-109.432629</td>\n",
       "    </tr>\n",
       "    <tr>\n",
       "      <th>39446</th>\n",
       "      <td>Weston</td>\n",
       "      <td>Wyoming</td>\n",
       "      <td>NaN</td>\n",
       "      <td>Campbell</td>\n",
       "      <td>44.835689</td>\n",
       "      <td>-105.373236</td>\n",
       "    </tr>\n",
       "    <tr>\n",
       "      <th>39447</th>\n",
       "      <td>Wolf</td>\n",
       "      <td>Wyoming</td>\n",
       "      <td>NaN</td>\n",
       "      <td>Sheridan</td>\n",
       "      <td>44.768228</td>\n",
       "      <td>-107.303429</td>\n",
       "    </tr>\n",
       "    <tr>\n",
       "      <th>39448</th>\n",
       "      <td>Wyarno</td>\n",
       "      <td>Wyoming</td>\n",
       "      <td>NaN</td>\n",
       "      <td>Sheridan</td>\n",
       "      <td>44.813333</td>\n",
       "      <td>-106.773333</td>\n",
       "    </tr>\n",
       "    <tr>\n",
       "      <th>39449</th>\n",
       "      <td>Yellowstone National Park</td>\n",
       "      <td>Wyoming</td>\n",
       "      <td>NaN</td>\n",
       "      <td>Park</td>\n",
       "      <td>44.853913</td>\n",
       "      <td>-110.674366</td>\n",
       "    </tr>\n",
       "  </tbody>\n",
       "</table>\n",
       "<p>39450 rows × 6 columns</p>\n",
       "</div>"
      ],
      "text/plain": [
       "                            city       state  population       county  \\\n",
       "0                       New York    New York  18972871.0       Queens   \n",
       "1                    Los Angeles  California  12121244.0  Los Angeles   \n",
       "2                        Chicago    Illinois   8595181.0         Cook   \n",
       "3                          Miami     Florida   5711945.0   Miami-Dade   \n",
       "4                         Dallas       Texas   5668165.0       Dallas   \n",
       "...                          ...         ...         ...          ...   \n",
       "39445                     Wapiti     Wyoming         NaN         Park   \n",
       "39446                     Weston     Wyoming         NaN     Campbell   \n",
       "39447                       Wolf     Wyoming         NaN     Sheridan   \n",
       "39448                     Wyarno     Wyoming         NaN     Sheridan   \n",
       "39449  Yellowstone National Park     Wyoming         NaN         Park   \n",
       "\n",
       "        latitude   longitude  \n",
       "0      40.694300  -73.924900  \n",
       "1      34.114100 -118.406800  \n",
       "2      41.837500  -87.686600  \n",
       "3      25.784000  -80.210100  \n",
       "4      32.793500  -96.766700  \n",
       "...          ...         ...  \n",
       "39445  44.479670 -109.432629  \n",
       "39446  44.835689 -105.373236  \n",
       "39447  44.768228 -107.303429  \n",
       "39448  44.813333 -106.773333  \n",
       "39449  44.853913 -110.674366  \n",
       "\n",
       "[39450 rows x 6 columns]"
      ]
     },
     "execution_count": 82,
     "metadata": {},
     "output_type": "execute_result"
    }
   ],
   "source": [
    "all_cities['city'] = all_cities['city'].str.lower().str.title()\n",
    "all_cities['state'] = all_cities['state'].str.lower().str.title()\n",
    "all_cities['county'] = all_cities['county'].str.lower().str.title()\n",
    "all_cities = all_cities.drop_duplicates(subset=['city', 'state']).reset_index(drop=True)\n",
    "all_cities"
   ]
  },
  {
   "cell_type": "code",
   "execution_count": 83,
   "metadata": {},
   "outputs": [],
   "source": [
    "all_cities = all_cities.reset_index(names='city_id')\n",
    "all_cities = all_cities[~(all_cities['state'].isin(['Puerto Rico', 'District of Columbia', 'District Of Columbia']))]\n"
   ]
  },
  {
   "cell_type": "code",
   "execution_count": 84,
   "metadata": {},
   "outputs": [
    {
     "name": "stdout",
     "output_type": "stream",
     "text": [
      "50\n"
     ]
    }
   ],
   "source": [
    "print(all_cities['state'].nunique())"
   ]
  },
  {
   "cell_type": "code",
   "execution_count": 85,
   "metadata": {},
   "outputs": [],
   "source": [
    "location = all_cities[['city_id', 'latitude', 'longitude']]\n",
    "city = all_cities[['city_id', 'city', 'state', 'county', 'population']]"
   ]
  },
  {
   "cell_type": "code",
   "execution_count": 86,
   "metadata": {},
   "outputs": [],
   "source": [
    "location.to_csv('cleaned/location.csv', index=False)\n",
    "city.to_csv('cleaned/city.csv', index=False)"
   ]
  }
 ],
 "metadata": {
  "kernelspec": {
   "display_name": ".venv",
   "language": "python",
   "name": "python3"
  },
  "language_info": {
   "codemirror_mode": {
    "name": "ipython",
    "version": 3
   },
   "file_extension": ".py",
   "mimetype": "text/x-python",
   "name": "python",
   "nbconvert_exporter": "python",
   "pygments_lexer": "ipython3",
   "version": "3.11.7"
  }
 },
 "nbformat": 4,
 "nbformat_minor": 2
}
